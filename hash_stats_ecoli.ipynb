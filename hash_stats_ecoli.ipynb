{
 "cells": [
  {
   "cell_type": "code",
   "execution_count": null,
   "metadata": {
    "collapsed": true
   },
   "outputs": [],
   "source": [
    "import pandas as pd\n",
    "\n",
    "def get_hash(path):\n",
    "    data = pd.DataFrame.from_csv(path,sep='\\t',header=None,index_col=None)\n",
    "    return data"
   ]
  },
  {
   "cell_type": "code",
   "execution_count": null,
   "metadata": {
    "collapsed": true
   },
   "outputs": [],
   "source": [
    "import matplotlib.pyplot as plt\n",
    "import matplotlib.pyplot as plt\n",
    "import math\n",
    "import seaborn as sns\n",
    "\n",
    "binwidth = 1\n",
    "\n",
    "def get_plot(data,title,xlabel,ylabel):\n",
    "    title= title+ \" (Total : \"+ str(sum(data)) + \" )\"\n",
    "    plt.hist(data,log=True,bins=range(min(data), max(data) + binwidth, binwidth))\n",
    "    plt.xlabel(xlabel)\n",
    "    plt.ylabel(ylabel)\n",
    "    plt.ylim(0.9999,len(data))\n",
    "    plt.title(title)\n",
    "    plt.plot()\n",
    "    fig = plt.figure()\n",
    "    return fig"
   ]
  },
  {
   "cell_type": "code",
   "execution_count": null,
   "metadata": {
    "collapsed": true
   },
   "outputs": [],
   "source": [
    "path=\"/mnt/scratch2/nirm/results/nitish/ecoli_1\"\n",
    "df = get_hash(path)"
   ]
  },
  {
   "cell_type": "code",
   "execution_count": null,
   "metadata": {
    "collapsed": true
   },
   "outputs": [],
   "source": [
    "from matplotlib.backends.backend_pdf import PdfPages\n",
    "\n",
    "ylabel = \"Number of kmers\"\n",
    "\n",
    "plot0 = get_plot(df[3],\"Number of occurences of a kmer before any updates\",\"Number of occurences for a kmer\", ylabel)\n",
    "plot1 = get_plot(df[3],\"Number of occurences of a kmer before any updates\",\"Number of occurences for a kmer\", ylabel)\n",
    "plot2 = get_plot(df[1],\"Number of insertions of a kmer for 1% updates\",\"Number of positions inserted for a kmer\", ylabel)\n",
    "plot3 = get_plot(df[2],\"Number of deletions of a kmer for 1% updates\",\"Number of positions deleted for a kmer\", ylabel)\n",
    "plot4 = get_plot(df[2]+ df[1],\"Number of inserted + deletions of a kmer for 1% updates\",\"Number of positions inserted and deleted for a kmer\", ylabel)\n",
    "\n",
    "\n",
    "pp = PdfPages('/mnt/scratch2/nirm/results/nitish/hash_stats/ecoli.pdf')\n",
    "pp.savefig(plot0) #first plot does not get saved. hack\n",
    "pp.savefig(plot1)\n",
    "pp.savefig(plot2)\n",
    "pp.savefig(plot3)\n",
    "pp.savefig(plot4)\n",
    "pp.close()"
   ]
  },
  {
   "cell_type": "code",
   "execution_count": null,
   "metadata": {
    "collapsed": true
   },
   "outputs": [],
   "source": [
    "path=\"/mnt/scratch2/nirm/results/nitish/ecoli_11\"\n",
    "df = get_hash(path)"
   ]
  },
  {
   "cell_type": "code",
   "execution_count": null,
   "metadata": {
    "collapsed": true
   },
   "outputs": [],
   "source": [
    "from matplotlib.backends.backend_pdf import PdfPages\n",
    "\n",
    "ylabel = \"Number of kmers\"\n",
    "\n",
    "plot = get_plot(df[1],\"Number of insertions of a kmer for 1% updates\",\"Number of positions inserted for a kmer\", ylabel)\n",
    "plot2 = get_plot(df[1],\"Number of insertions of a kmer for 1% updates\",\"Number of positions inserted for a kmer\", ylabel)\n",
    "plot3 = get_plot(df[2],\"Number of deletions of a kmer for 1% updates\",\"Number of positions deleted for a kmer\", ylabel)\n",
    "plot4 = get_plot(df[2]+ df[1],\"Number of inserted + deletions of a kmer for 1% updates\",\"Number of positions inserted and deleted for a kmer\", ylabel)\n",
    "\n",
    "\n",
    "pp = PdfPages('/mnt/scratch2/nirm/results/nitish/hash_stats/ecoli_new.pdf')\n",
    "pp.savefig(plot)\n",
    "pp.savefig(plot2)\n",
    "pp.savefig(plot3)\n",
    "pp.savefig(plot4)\n",
    "pp.close()"
   ]
  },
  {
   "cell_type": "code",
   "execution_count": null,
   "metadata": {
    "collapsed": true
   },
   "outputs": [],
   "source": [
    "len(df)"
   ]
  }
 ],
 "metadata": {
  "kernelspec": {
   "display_name": "Python 2",
   "language": "python",
   "name": "python2"
  },
  "language_info": {
   "codemirror_mode": {
    "name": "ipython",
    "version": 2
   },
   "file_extension": ".py",
   "mimetype": "text/x-python",
   "name": "python",
   "nbconvert_exporter": "python",
   "pygments_lexer": "ipython2",
   "version": "2.7.8"
  }
 },
 "nbformat": 4,
 "nbformat_minor": 0
}
